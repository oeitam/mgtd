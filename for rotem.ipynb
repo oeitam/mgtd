{
 "cells": [
  {
   "cell_type": "code",
   "execution_count": 1,
   "metadata": {},
   "outputs": [
    {
     "name": "stdout",
     "output_type": "stream",
     "text": [
      "   aa a\n",
      "   aa a\n",
      "   bb bbb\n",
      "   cc ccccccc\n",
      "-----------------\n",
      "   aa a\n",
      "   aa a\n",
      "   aa a\n",
      "   aa a\n",
      "   aa a\n",
      "   aa a\n",
      "   aa a\n",
      "   aa a\n",
      "   bb bbb\n",
      "   bb bbb\n",
      "   bb bbb\n",
      "   bb bbb\n",
      "   cc ccccccc\n",
      "   cc ccccccc\n",
      "   cc ccccccc\n",
      "   cc ccccccc\n",
      "[3 5 9]\n",
      "[None None None]\n",
      "Done\n"
     ]
    }
   ],
   "source": [
    "import numpy as np\n",
    "\n",
    "n = 3\n",
    "\n",
    "def cosine_similarity(sentence_1, sentence_2):#, vocabulary):\n",
    "    print(\"  \",sentence_1, sentence_2)#, vocabulary)\n",
    "    return len(sentence_1) + len(sentence_2)# + vocabulary\n",
    "\n",
    "vec_cos_sim = np.vectorize(cosine_similarity)\n",
    "\n",
    "def get_s(s1, arr):#, voc):\n",
    "    l1 = [s1]\n",
    "    l2 = l1*n\n",
    "    ar1 = np.array(l2)\n",
    "    vec_cos_sim(ar1, arr)#,np.repeat(voc,n))\n",
    "\n",
    "vec_get_s = np.vectorize(get_s)\n",
    "\n",
    "#out = vec_cos_sim([('a','b',16),('a','b',16),('a','b',16),('a','b',16)],2)\n",
    "ll1 = ['aa','bb','cc']\n",
    "ll2 = ['a','bbb','ccccccc']\n",
    "ll3 = [1,5,78]\n",
    "a1 = np.array(ll1)\n",
    "a2 = np.array(ll2)\n",
    "a3 = np.array(ll3)\n",
    "\n",
    "\n",
    "\n",
    "#out = vec_cos_sim(np.array(['a','aa','aaa','aaaa']))\n",
    "out1 = vec_cos_sim(a1, a2)#, a3)\n",
    "print('-----------------')\n",
    "out2 = vec_get_s(a1,a2)#,a3)\n",
    "\n",
    "print(out1)\n",
    "\n",
    "print(out2)\n",
    "\n",
    "print(\"Done\")"
   ]
  },
  {
   "cell_type": "code",
   "execution_count": 25,
   "metadata": {},
   "outputs": [
    {
     "name": "stdout",
     "output_type": "stream",
     "text": [
      "[1, 2, 3, 4]\n",
      "[4, 1, 2, 3]\n"
     ]
    }
   ],
   "source": [
    "l = [1,2,3,4]\n",
    "print(l)\n",
    "print(l[-1:] + l[:-1])"
   ]
  },
  {
   "cell_type": "code",
   "execution_count": 51,
   "metadata": {},
   "outputs": [
    {
     "data": {
      "text/plain": [
       "array(['ssds', 'ssds', 'ssds'], dtype='<U4')"
      ]
     },
     "execution_count": 51,
     "metadata": {},
     "output_type": "execute_result"
    }
   ],
   "source": [
    "s1 = 'ssds'\n",
    "l1 = [s1]\n",
    "l2 = l1*n\n",
    "ar1 = np.array(l2)\n",
    "ar1"
   ]
  },
  {
   "cell_type": "code",
   "execution_count": 59,
   "metadata": {},
   "outputs": [
    {
     "data": {
      "text/plain": [
       "array(['aa', 'aa', 'aa', 'bb', 'bb', 'bb', 'cc', 'cc', 'cc'], dtype='<U2')"
      ]
     },
     "execution_count": 59,
     "metadata": {},
     "output_type": "execute_result"
    }
   ],
   "source": [
    "ll1 = ['aa','bb','cc']\n",
    "ll2 = ['a','bbb','ccccccc']\n",
    "ll3 = [1,5,78]\n",
    "a1 = np.array(ll1)\n",
    "a2 = np.array(ll2)\n",
    "a3 = np.array(ll3)\n",
    "np.repeat(a1,n)"
   ]
  },
  {
   "cell_type": "code",
   "execution_count": 2,
   "metadata": {},
   "outputs": [
    {
     "data": {
      "text/plain": [
       "False"
      ]
     },
     "execution_count": 2,
     "metadata": {},
     "output_type": "execute_result"
    }
   ],
   "source": [
    "\"abc\" in \"aasdf asdfasd af ad fasd fasdfab asdf  dfghfgh dfgh\""
   ]
  },
  {
   "cell_type": "code",
   "execution_count": null,
   "metadata": {},
   "outputs": [],
   "source": []
  }
 ],
 "metadata": {
  "kernelspec": {
   "display_name": "Python 3",
   "language": "python",
   "name": "python3"
  },
  "language_info": {
   "codemirror_mode": {
    "name": "ipython",
    "version": 3
   },
   "file_extension": ".py",
   "mimetype": "text/x-python",
   "name": "python",
   "nbconvert_exporter": "python",
   "pygments_lexer": "ipython3",
   "version": "3.12.3"
  }
 },
 "nbformat": 4,
 "nbformat_minor": 2
}
